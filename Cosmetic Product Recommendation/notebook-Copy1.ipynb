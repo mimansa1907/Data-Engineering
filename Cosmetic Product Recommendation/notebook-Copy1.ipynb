{
 "cells": [
  {
   "cell_type": "markdown",
   "metadata": {
    "dc": {
     "key": "4"
    },
    "deletable": false,
    "editable": false,
    "run_control": {
     "frozen": true
    },
    "tags": [
     "context"
    ]
   },
   "source": [
    "## 1. Cosmetics, chemicals... it's complicated\n",
    "<p>Whenever I want to try a new cosmetic item, it's so difficult to choose. It's actually more than difficult. It's sometimes scary because new items that I've never tried end up giving me skin trouble. We know the information we need is on the back of each product, but it's really hard to interpret those ingredient lists unless you're a chemist. You may be able to relate to this situation.</p>\n",
    "<p><img src=\"https://assets.datacamp.com/production/project_695/img/image_1.png\" style=\"width:600px;height:400px;\"></p>\n",
    "<p>So instead of buying and hoping for the best, why don't we use data science to help us predict which products may be good fits for us? In this notebook, we are going to create a content-based recommendation system where the 'content' will be the chemical components of cosmetics. Specifically, we will process ingredient lists for 1472 cosmetics on Sephora via <a href=\"https://en.wikipedia.org/wiki/Word_embedding\">word embedding</a>, then visualize ingredient similarity using a machine learning method called t-SNE and an interactive visualization library called Bokeh. Let's inspect our data first.</p>"
   ]
  },
  {
   "cell_type": "code",
   "execution_count": 1,
   "metadata": {
    "dc": {
     "key": "4"
    },
    "tags": [
     "sample_code"
    ]
   },
   "outputs": [
    {
     "data": {
      "text/html": [
       "<div>\n",
       "<style scoped>\n",
       "    .dataframe tbody tr th:only-of-type {\n",
       "        vertical-align: middle;\n",
       "    }\n",
       "\n",
       "    .dataframe tbody tr th {\n",
       "        vertical-align: top;\n",
       "    }\n",
       "\n",
       "    .dataframe thead th {\n",
       "        text-align: right;\n",
       "    }\n",
       "</style>\n",
       "<table border=\"1\" class=\"dataframe\">\n",
       "  <thead>\n",
       "    <tr style=\"text-align: right;\">\n",
       "      <th></th>\n",
       "      <th>Label</th>\n",
       "      <th>Brand</th>\n",
       "      <th>Name</th>\n",
       "      <th>Price</th>\n",
       "      <th>Rank</th>\n",
       "      <th>Ingredients</th>\n",
       "      <th>Combination</th>\n",
       "      <th>Dry</th>\n",
       "      <th>Normal</th>\n",
       "      <th>Oily</th>\n",
       "      <th>Sensitive</th>\n",
       "    </tr>\n",
       "  </thead>\n",
       "  <tbody>\n",
       "    <tr>\n",
       "      <th>676</th>\n",
       "      <td>Treatment</td>\n",
       "      <td>FIRST AID BEAUTY</td>\n",
       "      <td>FAB Skin Lab Retinol Serum 0.25% Pure Concentrate</td>\n",
       "      <td>58</td>\n",
       "      <td>4.3</td>\n",
       "      <td>Water, Polysorbate 80, Caprylic/Capric Triglyc...</td>\n",
       "      <td>1</td>\n",
       "      <td>1</td>\n",
       "      <td>1</td>\n",
       "      <td>1</td>\n",
       "      <td>1</td>\n",
       "    </tr>\n",
       "    <tr>\n",
       "      <th>93</th>\n",
       "      <td>Moisturizer</td>\n",
       "      <td>JOSIE MARAN</td>\n",
       "      <td>Argan Daily Moisturizer SPF 47</td>\n",
       "      <td>32</td>\n",
       "      <td>3.9</td>\n",
       "      <td>**Natural.</td>\n",
       "      <td>1</td>\n",
       "      <td>1</td>\n",
       "      <td>1</td>\n",
       "      <td>1</td>\n",
       "      <td>1</td>\n",
       "    </tr>\n",
       "    <tr>\n",
       "      <th>236</th>\n",
       "      <td>Moisturizer</td>\n",
       "      <td>AMOREPACIFIC</td>\n",
       "      <td>MOISTURE BOUND Refreshing Hydra-Gel Oil-Free</td>\n",
       "      <td>100</td>\n",
       "      <td>4.2</td>\n",
       "      <td>Phyllostachis Bambusoides Juice, Butylene Glyc...</td>\n",
       "      <td>1</td>\n",
       "      <td>1</td>\n",
       "      <td>1</td>\n",
       "      <td>0</td>\n",
       "      <td>1</td>\n",
       "    </tr>\n",
       "    <tr>\n",
       "      <th>1098</th>\n",
       "      <td>Eye cream</td>\n",
       "      <td>ESTÉE LAUDER</td>\n",
       "      <td>Advanced Night Repair Eye Supercharged Complex</td>\n",
       "      <td>62</td>\n",
       "      <td>4.4</td>\n",
       "      <td>Advanced Night Repr Eye Sync Cmpii Division: E...</td>\n",
       "      <td>1</td>\n",
       "      <td>1</td>\n",
       "      <td>1</td>\n",
       "      <td>1</td>\n",
       "      <td>0</td>\n",
       "    </tr>\n",
       "    <tr>\n",
       "      <th>1389</th>\n",
       "      <td>Sun protect</td>\n",
       "      <td>MURAD</td>\n",
       "      <td>Balancing Moisturizer Broad Spectrum SPF 15 PA++</td>\n",
       "      <td>40</td>\n",
       "      <td>3.7</td>\n",
       "      <td>Water, Butylene Glycol, Pentylene Glycol, Ison...</td>\n",
       "      <td>0</td>\n",
       "      <td>0</td>\n",
       "      <td>0</td>\n",
       "      <td>0</td>\n",
       "      <td>0</td>\n",
       "    </tr>\n",
       "  </tbody>\n",
       "</table>\n",
       "</div>"
      ],
      "text/plain": [
       "            Label             Brand  \\\n",
       "676     Treatment  FIRST AID BEAUTY   \n",
       "93    Moisturizer       JOSIE MARAN   \n",
       "236   Moisturizer      AMOREPACIFIC   \n",
       "1098    Eye cream      ESTÉE LAUDER   \n",
       "1389  Sun protect             MURAD   \n",
       "\n",
       "                                                   Name  Price  Rank  \\\n",
       "676   FAB Skin Lab Retinol Serum 0.25% Pure Concentrate     58   4.3   \n",
       "93                       Argan Daily Moisturizer SPF 47     32   3.9   \n",
       "236        MOISTURE BOUND Refreshing Hydra-Gel Oil-Free    100   4.2   \n",
       "1098     Advanced Night Repair Eye Supercharged Complex     62   4.4   \n",
       "1389   Balancing Moisturizer Broad Spectrum SPF 15 PA++     40   3.7   \n",
       "\n",
       "                                            Ingredients  Combination  Dry  \\\n",
       "676   Water, Polysorbate 80, Caprylic/Capric Triglyc...            1    1   \n",
       "93                                           **Natural.            1    1   \n",
       "236   Phyllostachis Bambusoides Juice, Butylene Glyc...            1    1   \n",
       "1098  Advanced Night Repr Eye Sync Cmpii Division: E...            1    1   \n",
       "1389  Water, Butylene Glycol, Pentylene Glycol, Ison...            0    0   \n",
       "\n",
       "      Normal  Oily  Sensitive  \n",
       "676        1     1          1  \n",
       "93         1     1          1  \n",
       "236        1     0          1  \n",
       "1098       1     1          0  \n",
       "1389       0     0          0  "
      ]
     },
     "metadata": {},
     "output_type": "display_data"
    },
    {
     "data": {
      "text/plain": [
       "Moisturizer    298\n",
       "Cleanser       281\n",
       "Face Mask      266\n",
       "Treatment      248\n",
       "Eye cream      209\n",
       "Sun protect    170\n",
       "Name: Label, dtype: int64"
      ]
     },
     "metadata": {},
     "output_type": "display_data"
    }
   ],
   "source": [
    "# Import libraries\n",
    "# CODE FOR TASK 1\n",
    "import pandas as pd\n",
    "import numpy as np\n",
    "from sklearn.manifold import TSNE\n",
    "from bokeh.io import show, output_notebook, push_notebook\n",
    "from bokeh.plotting import figure\n",
    "from bokeh.models import ColumnDataSource, HoverTool\n",
    "\n",
    "# Load the data\n",
    "df = pd.read_csv('datasets/cosmetics.csv')\n",
    "\n",
    "# Check the first five rows \n",
    "# CODE FOR TASK 1\n",
    "display(df.sample(n=5))\n",
    "\n",
    "# Inspect the types of products\n",
    "# CODE FOR TASK 1\n",
    "display(df['Label'].value_counts())"
   ]
  },
  {
   "cell_type": "markdown",
   "metadata": {
    "dc": {
     "key": "12"
    },
    "deletable": false,
    "editable": false,
    "run_control": {
     "frozen": true
    },
    "tags": [
     "context"
    ]
   },
   "source": [
    "## 2. Focus on one product category and one skin type\n",
    "<p>There are six categories of product in our data (<strong><em>moisturizers, cleansers, face masks, eye creams</em></strong>, and <strong><em>sun protection</em></strong>) and there are five different skin types (<strong><em>combination, dry, normal, oily</em></strong> and <strong><em>sensitive</em></strong>). Because individuals have different product needs as well as different skin types, let's set up our workflow so its outputs (a t-SNE model and a visualization of that model) can be customized. For the example in this notebook, let's focus in on moisturizers for those with dry skin by filtering the data accordingly.</p>"
   ]
  },
  {
   "cell_type": "code",
   "execution_count": 2,
   "metadata": {
    "dc": {
     "key": "12"
    },
    "tags": [
     "sample_code"
    ]
   },
   "outputs": [],
   "source": [
    "# Filter for moisturizers\n",
    "moisturizers = df[df['Label'] == 'Moisturizer']\n",
    "\n",
    "# Filter for dry skin as well\n",
    "moisturizers_dry = moisturizers[moisturizers['Dry']==1]\n",
    "\n",
    "# Reset index\n",
    "moisturizers_dry = moisturizers_dry.reset_index(drop = True)"
   ]
  },
  {
   "cell_type": "markdown",
   "metadata": {
    "dc": {
     "key": "19"
    },
    "deletable": false,
    "editable": false,
    "run_control": {
     "frozen": true
    },
    "tags": [
     "context"
    ]
   },
   "source": [
    "## 3. Tokenizing the ingredients\n",
    "<p>To get to our end goal of comparing ingredients in each product, we first need to do some preprocessing tasks and bookkeeping of the actual words in each product's ingredients list. The first step will be tokenizing the list of ingredients in <code>Ingredients</code> column. After splitting them into tokens, we'll make a binary bag of words. Then we will create a dictionary with the tokens, <code>ingredient_idx</code>, which will have the following format:</p>\n",
    "<p>{ <strong><em>\"ingredient\"</em></strong>: index value, … }</p>"
   ]
  },
  {
   "cell_type": "code",
   "execution_count": 3,
   "metadata": {
    "dc": {
     "key": "19"
    },
    "tags": [
     "sample_code"
    ]
   },
   "outputs": [
    {
     "name": "stdout",
     "output_type": "stream",
     "text": [
      "The index for decyl oleate is 25\n"
     ]
    }
   ],
   "source": [
    "# Initialize dictionary, list, and initial index\n",
    "ingredient_idx = {}\n",
    "corpus = []\n",
    "idx = 0\n",
    "\n",
    "# For loop for tokenization\n",
    "for i in range(len(moisturizers_dry)):    \n",
    "    ingredients = moisturizers_dry['Ingredients'][i]\n",
    "    ingredients_lower = ingredients.lower()\n",
    "    tokens = ingredients_lower.split(', ')\n",
    "    corpus.append(tokens)\n",
    "    for ingredient in tokens:\n",
    "        if ingredient not in ingredient_idx:\n",
    "            ingredient_idx[ingredient] = idx\n",
    "            idx += 1\n",
    "            \n",
    "# Check the result \n",
    "print(\"The index for decyl oleate is\", ingredient_idx['decyl oleate'])"
   ]
  },
  {
   "cell_type": "code",
   "execution_count": 4,
   "metadata": {},
   "outputs": [
    {
     "name": "stdout",
     "output_type": "stream",
     "text": [
      "[('algae (seaweed) extract', 0), ('mineral oil', 1), ('petrolatum', 2), ('glycerin', 3), ('isohexadecane', 4)]\n"
     ]
    }
   ],
   "source": [
    "print(list(ingredient_idx.items())[:5])"
   ]
  },
  {
   "cell_type": "code",
   "execution_count": 5,
   "metadata": {},
   "outputs": [
    {
     "name": "stdout",
     "output_type": "stream",
     "text": [
      "['algae (seaweed) extract', 'mineral oil', 'petrolatum', 'glycerin', 'isohexadecane', 'microcrystalline wax', 'lanolin alcohol', 'citrus aurantifolia (lime) extract', 'sesamum indicum (sesame) seed oil', 'eucalyptus globulus (eucalyptus) leaf oil', 'sesamum indicum (sesame) seed powder', 'medicago sativa (alfalfa) seed powder', 'helianthus annuus (sunflower) seedcake', 'prunus amygdalus dulcis (sweet almond) seed meal', 'sodium gluconate', 'copper gluconate', 'calcium gluconate', 'magnesium gluconate', 'zinc gluconate', 'magnesium sulfate', 'paraffin', 'tocopheryl succinate', 'niacin', 'water', 'beta-carotene', 'decyl oleate', 'aluminum distearate', 'octyldodecanol', 'citric acid', 'cyanocobalamin', 'magnesium stearate', 'panthenol', 'limonene', 'geraniol', 'linalool', 'hydroxycitronellal', 'citronellol', 'benzyl salicylate', 'citral', 'sodium benzoate', 'alcohol denat.', 'fragrance.']\n",
      "\n",
      "['galactomyces ferment filtrate (pitera)', 'butylene glycol', 'pentylene glycol', 'water', 'sodium benzoate', 'methylparaben', 'sorbic acid.']\n"
     ]
    }
   ],
   "source": [
    "print(corpus[0])\n",
    "print()\n",
    "print(corpus[1])"
   ]
  },
  {
   "cell_type": "markdown",
   "metadata": {
    "dc": {
     "key": "26"
    },
    "deletable": false,
    "editable": false,
    "run_control": {
     "frozen": true
    },
    "tags": [
     "context"
    ]
   },
   "source": [
    "## 4. Initializing a document-term matrix (DTM)\n",
    "<p>The next step is making a document-term matrix (DTM). Here each cosmetic product will correspond to a document, and each chemical composition will correspond to a term. This means we can think of the matrix as a <em>“cosmetic-ingredient”</em> matrix. The size of the matrix should be as the picture shown below.\n",
    "<img src=\"https://assets.datacamp.com/production/project_695/img/image_2.PNG\" style=\"width:600px;height:250px;\">\n",
    "To create this matrix, we'll first make an empty matrix filled with zeros. The length of the matrix is the total number of cosmetic products in the data. The width of the matrix is the total number of ingredients. After initializing this empty matrix, we'll fill it in the following tasks. </p>"
   ]
  },
  {
   "cell_type": "code",
   "execution_count": 6,
   "metadata": {
    "dc": {
     "key": "26"
    },
    "tags": [
     "sample_code"
    ]
   },
   "outputs": [],
   "source": [
    "# Get the number of items and tokens \n",
    "M = moisturizers_dry.shape[0]\n",
    "N = len(ingredient_idx)\n",
    "# Initialize a matrix of zeros\n",
    "A = np.zeros((M,N))"
   ]
  },
  {
   "cell_type": "markdown",
   "metadata": {
    "dc": {
     "key": "33"
    },
    "deletable": false,
    "editable": false,
    "run_control": {
     "frozen": true
    },
    "tags": [
     "context"
    ]
   },
   "source": [
    "## 5. Creating a counter function\n",
    "<p>Before we can fill the matrix, let's create a function to count the tokens (i.e., an ingredients list) for each row. Our end goal is to fill the matrix with 1 or 0: if an ingredient is in a cosmetic, the value is 1. If not, it remains 0. The name of this function, <code>oh_encoder</code>, will become clear next.</p>"
   ]
  },
  {
   "cell_type": "code",
   "execution_count": 7,
   "metadata": {
    "dc": {
     "key": "33"
    },
    "tags": [
     "sample_code"
    ]
   },
   "outputs": [],
   "source": [
    "# Define the oh_encoder function\n",
    "def oh_encoder(tokens):\n",
    "    x = np.zeros(N)\n",
    "    for ingredient in tokens:\n",
    "        # Get the index for each ingredient\n",
    "        idx = ingredient_idx[ingredient]\n",
    "        # Put 1 at the corresponding indices\n",
    "        x[idx] = 1\n",
    "    return x"
   ]
  },
  {
   "cell_type": "markdown",
   "metadata": {
    "dc": {
     "key": "40"
    },
    "deletable": false,
    "editable": false,
    "run_control": {
     "frozen": true
    },
    "tags": [
     "context"
    ]
   },
   "source": [
    "## 6. The Cosmetic-Ingredient matrix!\n",
    "<p>Now we'll apply the <code>oh_encoder()</code> functon to the tokens in <code>corpus</code> and set the values at each row of this matrix. So the result will tell us what ingredients each item is composed of. For example, if a cosmetic item contains <em>water, niacin, decyl aleate</em> and <em>sh-polypeptide-1</em>, the outcome of this item will be as follows. \n",
    "<img src=\"https://assets.datacamp.com/production/project_695/img/image_3.PNG\" style=\"width:800px;height:400px;\">\n",
    "This is what we called one-hot encoding. By encoding each ingredient in the items, the <em>Cosmetic-Ingredient</em> matrix will be filled with binary values. </p>"
   ]
  },
  {
   "cell_type": "code",
   "execution_count": 8,
   "metadata": {
    "dc": {
     "key": "40"
    },
    "tags": [
     "sample_code"
    ]
   },
   "outputs": [],
   "source": [
    "# Make a document-term matrix\n",
    "i = 0\n",
    "for tokens in corpus:\n",
    "    A[i, :] = oh_encoder(tokens)\n",
    "    # CODE FOR TASK 6\n",
    "    i = i + 1"
   ]
  },
  {
   "cell_type": "code",
   "execution_count": 9,
   "metadata": {},
   "outputs": [
    {
     "name": "stdout",
     "output_type": "stream",
     "text": [
      "(190, 2233)\n"
     ]
    }
   ],
   "source": [
    "print(A.shape)"
   ]
  },
  {
   "cell_type": "markdown",
   "metadata": {
    "dc": {
     "key": "47"
    },
    "deletable": false,
    "editable": false,
    "run_control": {
     "frozen": true
    },
    "tags": [
     "context"
    ]
   },
   "source": [
    "## 7. Dimension reduction with t-SNE\n",
    "<p>The dimensions of the existing matrix is (190, 2233), which means there are 2233 features in our data. For visualization, we should downsize this into two dimensions. We'll use t-SNE for reducing the dimension of the data here.</p>\n",
    "<p><strong><a href=\"https://en.wikipedia.org/wiki/T-distributed_stochastic_neighbor_embedding\">T-distributed Stochastic Neighbor Embedding (t-SNE)</a></strong> is a nonlinear dimensionality reduction technique that is well-suited for embedding high-dimensional data for visualization in a low-dimensional space of two or three dimensions. Specifically, this technique can reduce the dimension of data while keeping the similarities between the instances. This enables us to make a plot on the coordinate plane, which can be said as vectorizing. All of these cosmetic items in our data will be vectorized into two-dimensional coordinates, and the distances between the points will indicate the similarities between the items. </p>"
   ]
  },
  {
   "cell_type": "code",
   "execution_count": 10,
   "metadata": {
    "dc": {
     "key": "47"
    },
    "tags": [
     "sample_code"
    ]
   },
   "outputs": [
    {
     "name": "stderr",
     "output_type": "stream",
     "text": [
      "C:\\Users\\vg781\\AppData\\Local\\Programs\\Python\\Python39\\lib\\site-packages\\sklearn\\manifold\\_t_sne.py:800: FutureWarning: The default initialization in TSNE will change from 'random' to 'pca' in 1.2.\n",
      "  warnings.warn(\n"
     ]
    }
   ],
   "source": [
    "# Dimension reduction with t-SNE\n",
    "model = TSNE(n_components=2, learning_rate=200,\n",
    "            random_state = 42)\n",
    "tsne_features = model.fit_transform(A)\n",
    "\n",
    "# # Make X, Y columns \n",
    "moisturizers_dry['X'] = tsne_features[:,0]\n",
    "moisturizers_dry['Y'] = tsne_features[:,1]"
   ]
  },
  {
   "cell_type": "markdown",
   "metadata": {},
   "source": [
    "## To do's\n",
    "- Manually inspect TSNE values try plotting them separately\n",
    "- PLot the value from scratch with bokeh."
   ]
  },
  {
   "cell_type": "markdown",
   "metadata": {
    "dc": {
     "key": "55"
    },
    "deletable": false,
    "editable": false,
    "run_control": {
     "frozen": true
    },
    "tags": [
     "context"
    ]
   },
   "source": [
    "## 8. Let's map the items with Bokeh\n",
    "<p>We are now ready to start creating our plot. With the t-SNE values, we can plot all our items on the coordinate plane. And the coolest part here is that it will also show us the name, the brand, the price and the rank of each item. Let's make a scatter plot using Bokeh and add a hover tool to show that information. Note that we won't display the plot yet as we will make some more additions to it.</p>"
   ]
  },
  {
   "cell_type": "code",
   "execution_count": 18,
   "metadata": {
    "dc": {
     "key": "55"
    },
    "tags": [
     "sample_code"
    ]
   },
   "outputs": [
    {
     "name": "stderr",
     "output_type": "stream",
     "text": [
      "C:\\Users\\vg781\\AppData\\Local\\Temp\\ipykernel_19832\\4222206600.py:12: UserWarning: \n",
      "You are attempting to set `plot.legend.orientation` on a plot that has zero legends added, this will have no effect.\n",
      "\n",
      "Before legend properties can be set, you must add a Legend explicitly, or call a glyph method with a legend parameter set.\n",
      "\n",
      "  plot.legend.orientation = \"vertical\"\n",
      "C:\\Users\\vg781\\AppData\\Local\\Temp\\ipykernel_19832\\4222206600.py:13: UserWarning: \n",
      "You are attempting to set `plot.legend.location` on a plot that has zero legends added, this will have no effect.\n",
      "\n",
      "Before legend properties can be set, you must add a Legend explicitly, or call a glyph method with a legend parameter set.\n",
      "\n",
      "  plot.legend.location = \"top_center\"\n"
     ]
    }
   ],
   "source": [
    "# output_notebook()\n",
    "\n",
    "# Make a source and a scatter plot  \n",
    "source = ColumnDataSource(moisturizers_dry)\n",
    "plot = figure(x_axis_label = 'T-SNE1' , \n",
    "              y_axis_label ='T-SNE2', \n",
    "              width = 500, height = 400,)\n",
    "plot.circle(x = 'X', \n",
    "    y = 'Y', \n",
    "    source = source, \n",
    "    size = 10, color = '#FF7373', alpha = .8)"
   ]
  },
  {
   "cell_type": "markdown",
   "metadata": {
    "dc": {
     "key": "62"
    },
    "deletable": false,
    "editable": false,
    "run_control": {
     "frozen": true
    },
    "tags": [
     "context"
    ]
   },
   "source": [
    "## 9. Adding a hover tool\n",
    "<p>Why don't we add a hover tool? Adding a hover tool allows us to check the information of each item whenever the cursor is directly over a glyph. We'll add tooltips with each product's name, brand, price, and rank (i.e., rating).</p>"
   ]
  },
  {
   "cell_type": "code",
   "execution_count": 19,
   "metadata": {
    "dc": {
     "key": "62"
    },
    "tags": [
     "sample_code"
    ]
   },
   "outputs": [],
   "source": [
    "# Create a HoverTool object\n",
    "hover = HoverTool(tooltips = [('Item','@Name'),\n",
    "                              ('Brand','@Brand'),\n",
    "                              ('Price','$@Price'),\n",
    "                              ('Rank','@Rank')])\n",
    "plot.add_tools(hover)"
   ]
  },
  {
   "cell_type": "markdown",
   "metadata": {
    "dc": {
     "key": "69"
    },
    "deletable": false,
    "editable": false,
    "run_control": {
     "frozen": true
    },
    "tags": [
     "context"
    ]
   },
   "source": [
    "## 10. Mapping the cosmetic items\n",
    "<p>Finally, it's show time! Let's see how the map we've made looks like. Each point on the plot corresponds to the cosmetic items. Then what do the axes mean here? The axes of a t-SNE plot aren't easily interpretable in terms of the original data. Like mentioned above, t-SNE is a visualizing technique to plot high-dimensional data in a low-dimensional space. Therefore, it's not desirable to interpret a t-SNE plot quantitatively.</p>\n",
    "<p>Instead, what we can get from this map is the distance between the points (which items are close and which are far apart). The closer the distance between the two items is, the more similar the composition they have. Therefore this enables us to compare the items without having any chemistry background.</p>"
   ]
  },
  {
   "cell_type": "code",
   "execution_count": 20,
   "metadata": {
    "dc": {
     "key": "69"
    },
    "tags": [
     "sample_code"
    ]
   },
   "outputs": [],
   "source": [
    "# Plot the map\n",
    "# CODE FOR TASK 10\n",
    "show(plot)"
   ]
  },
  {
   "cell_type": "markdown",
   "metadata": {
    "dc": {
     "key": "76"
    },
    "deletable": false,
    "editable": false,
    "run_control": {
     "frozen": true
    },
    "tags": [
     "context"
    ]
   },
   "source": [
    "## 11. Comparing two products\n",
    "<p>Since there are so many cosmetics and so many ingredients, the plot doesn't have many super obvious patterns that simpler t-SNE plots can have (<a href=\"https://campus.datacamp.com/courses/unsupervised-learning-in-python/visualization-with-hierarchical-clustering-and-t-sne?ex=10\">example</a>). Our plot requires some digging to find insights, but that's okay!</p>\n",
    "<p>Say we enjoyed a specific product, there's an increased chance we'd enjoy another product that is similar in chemical composition.  Say we enjoyed AmorePacific's <a href=\"https://www.sephora.com/product/color-control-cushion-compact-broad-spectrum-spf-50-P378121\">Color Control Cushion Compact Broad Spectrum SPF 50+</a>. We could find this product on the plot and see if a similar product(s) exist. And it turns out it does! If we look at the points furthest left on the plot, we see  LANEIGE's <a href=\"https://www.sephora.com/product/bb-cushion-hydra-radiance-P420676\">BB Cushion Hydra Radiance SPF 50</a> essentially overlaps with the AmorePacific product. By looking at the ingredients, we can visually confirm the compositions of the products are similar (<em>though it is difficult to do, which is why we did this analysis in the first place!</em>), plus LANEIGE's version is $22 cheaper and actually has higher ratings.</p>\n",
    "<p>It's not perfect, but it's useful. In real life, we can actually use our little ingredient-based recommendation engine help us make educated cosmetic purchase choices.</p>"
   ]
  },
  {
   "cell_type": "code",
   "execution_count": 14,
   "metadata": {
    "dc": {
     "key": "76"
    },
    "tags": [
     "sample_code"
    ]
   },
   "outputs": [
    {
     "data": {
      "text/html": [
       "<div>\n",
       "<style scoped>\n",
       "    .dataframe tbody tr th:only-of-type {\n",
       "        vertical-align: middle;\n",
       "    }\n",
       "\n",
       "    .dataframe tbody tr th {\n",
       "        vertical-align: top;\n",
       "    }\n",
       "\n",
       "    .dataframe thead th {\n",
       "        text-align: right;\n",
       "    }\n",
       "</style>\n",
       "<table border=\"1\" class=\"dataframe\">\n",
       "  <thead>\n",
       "    <tr style=\"text-align: right;\">\n",
       "      <th></th>\n",
       "      <th>Label</th>\n",
       "      <th>Brand</th>\n",
       "      <th>Name</th>\n",
       "      <th>Price</th>\n",
       "      <th>Rank</th>\n",
       "      <th>Ingredients</th>\n",
       "      <th>Combination</th>\n",
       "      <th>Dry</th>\n",
       "      <th>Normal</th>\n",
       "      <th>Oily</th>\n",
       "      <th>Sensitive</th>\n",
       "      <th>X</th>\n",
       "      <th>Y</th>\n",
       "    </tr>\n",
       "  </thead>\n",
       "  <tbody>\n",
       "    <tr>\n",
       "      <th>45</th>\n",
       "      <td>Moisturizer</td>\n",
       "      <td>AMOREPACIFIC</td>\n",
       "      <td>Color Control Cushion Compact Broad Spectrum S...</td>\n",
       "      <td>60</td>\n",
       "      <td>4.0</td>\n",
       "      <td>Phyllostachis Bambusoides Juice, Cyclopentasil...</td>\n",
       "      <td>1</td>\n",
       "      <td>1</td>\n",
       "      <td>1</td>\n",
       "      <td>1</td>\n",
       "      <td>1</td>\n",
       "      <td>-2.41354</td>\n",
       "      <td>-0.466799</td>\n",
       "    </tr>\n",
       "  </tbody>\n",
       "</table>\n",
       "</div>"
      ],
      "text/plain": [
       "          Label         Brand  \\\n",
       "45  Moisturizer  AMOREPACIFIC   \n",
       "\n",
       "                                                 Name  Price  Rank  \\\n",
       "45  Color Control Cushion Compact Broad Spectrum S...     60   4.0   \n",
       "\n",
       "                                          Ingredients  Combination  Dry  \\\n",
       "45  Phyllostachis Bambusoides Juice, Cyclopentasil...            1    1   \n",
       "\n",
       "    Normal  Oily  Sensitive        X         Y  \n",
       "45       1     1          1 -2.41354 -0.466799  "
      ]
     },
     "metadata": {},
     "output_type": "display_data"
    },
    {
     "name": "stdout",
     "output_type": "stream",
     "text": [
      "['Phyllostachis Bambusoides Juice, Cyclopentasiloxane, Cyclohexasiloxane, Peg-10 Dimethicone, Phenyl Trimethicone, Butylene Glycol, Butylene Glycol Dicaprylate/Dicaprate, Alcohol, Arbutin, Lauryl Peg-9 Polydimethylsiloxyethyl Dimethicone, Acrylates/Ethylhexyl Acrylate/Dimethicone Methacrylate Copolymer, Polyhydroxystearic Acid, Sodium Chloride, Polymethyl Methacrylate, Aluminium Hydroxide, Stearic Acid, Disteardimonium Hectorite, Triethoxycaprylylsilane, Ethylhexyl Palmitate, Lecithin, Isostearic Acid, Isopropyl Palmitate, Phenoxyethanol, Polyglyceryl-3 Polyricinoleate, Acrylates/Stearyl Acrylate/Dimethicone Methacrylate Copolymer, Dimethicone, Disodium Edta, Trimethylsiloxysilicate, Ethylhexyglycerin, Dimethicone/Vinyl Dimethicone Crosspolymer, Water, Silica, Camellia Japonica Seed Oil, Camillia Sinensis Leaf Extract, Caprylyl Glycol, 1,2-Hexanediol, Fragrance, Titanium Dioxide, Iron Oxides (Ci 77492, Ci 77491, Ci77499).']\n"
     ]
    },
    {
     "data": {
      "text/html": [
       "<div>\n",
       "<style scoped>\n",
       "    .dataframe tbody tr th:only-of-type {\n",
       "        vertical-align: middle;\n",
       "    }\n",
       "\n",
       "    .dataframe tbody tr th {\n",
       "        vertical-align: top;\n",
       "    }\n",
       "\n",
       "    .dataframe thead th {\n",
       "        text-align: right;\n",
       "    }\n",
       "</style>\n",
       "<table border=\"1\" class=\"dataframe\">\n",
       "  <thead>\n",
       "    <tr style=\"text-align: right;\">\n",
       "      <th></th>\n",
       "      <th>Label</th>\n",
       "      <th>Brand</th>\n",
       "      <th>Name</th>\n",
       "      <th>Price</th>\n",
       "      <th>Rank</th>\n",
       "      <th>Ingredients</th>\n",
       "      <th>Combination</th>\n",
       "      <th>Dry</th>\n",
       "      <th>Normal</th>\n",
       "      <th>Oily</th>\n",
       "      <th>Sensitive</th>\n",
       "      <th>X</th>\n",
       "      <th>Y</th>\n",
       "    </tr>\n",
       "  </thead>\n",
       "  <tbody>\n",
       "    <tr>\n",
       "      <th>55</th>\n",
       "      <td>Moisturizer</td>\n",
       "      <td>LANEIGE</td>\n",
       "      <td>BB Cushion Hydra Radiance SPF 50</td>\n",
       "      <td>38</td>\n",
       "      <td>4.3</td>\n",
       "      <td>Water, Cyclopentasiloxane, Zinc Oxide (CI 7794...</td>\n",
       "      <td>1</td>\n",
       "      <td>1</td>\n",
       "      <td>1</td>\n",
       "      <td>1</td>\n",
       "      <td>1</td>\n",
       "      <td>-2.424875</td>\n",
       "      <td>-0.420208</td>\n",
       "    </tr>\n",
       "  </tbody>\n",
       "</table>\n",
       "</div>"
      ],
      "text/plain": [
       "          Label    Brand                              Name  Price  Rank  \\\n",
       "55  Moisturizer  LANEIGE  BB Cushion Hydra Radiance SPF 50     38   4.3   \n",
       "\n",
       "                                          Ingredients  Combination  Dry  \\\n",
       "55  Water, Cyclopentasiloxane, Zinc Oxide (CI 7794...            1    1   \n",
       "\n",
       "    Normal  Oily  Sensitive         X         Y  \n",
       "55       1     1          1 -2.424875 -0.420208  "
      ]
     },
     "metadata": {},
     "output_type": "display_data"
    },
    {
     "name": "stdout",
     "output_type": "stream",
     "text": [
      "['Water, Cyclopentasiloxane, Zinc Oxide (CI 77947), Ethylhexyl Methoxycinnamate, PEG-10 Dimethicone, Cyclohexasiloxane, Phenyl Trimethicone, Iron Oxides (CI 77492), Butylene Glycol Dicaprylate/Dicaprate, Niacinamide, Lauryl PEG-9 Polydimethylsiloxyethyl Dimethicone, Acrylates/Ethylhexyl Acrylate/Dimethicone Methacrylate Copolymer, Titanium Dioxide (CI 77891 , Iron Oxides (CI 77491), Butylene Glycol, Sodium Chloride, Iron Oxides (CI 77499), Aluminum Hydroxide, HDI/Trimethylol Hexyllactone Crosspolymer, Stearic Acid, Methyl Methacrylate Crosspolymer, Triethoxycaprylylsilane, Phenoxyethanol, Fragrance, Disteardimonium Hectorite, Caprylyl Glycol, Yeast Extract, Acrylates/Stearyl Acrylate/Dimethicone Methacrylate Copolymer, Dimethicone, Trimethylsiloxysilicate, Polysorbate 80, Disodium EDTA, Hydrogenated Lecithin, Dimethicone/Vinyl Dimethicone Crosspolymer, Mica (CI 77019), Silica, 1,2-Hexanediol, Polypropylsilsesquioxane, Chenopodium Quinoa Seed Extract, Magnesium Sulfate, Calcium Chloride, Camellia Sinensis Leaf Extract, Manganese Sulfate, Zinc Sulfate, Ascorbyl Glucoside.']\n"
     ]
    }
   ],
   "source": [
    "# Print the ingredients of two similar cosmetics\n",
    "cosmetic_1 = moisturizers_dry[moisturizers_dry['Name'] == \"Color Control Cushion Compact Broad Spectrum SPF 50+\"]\n",
    "cosmetic_2 = moisturizers_dry[moisturizers_dry['Name'] == \"BB Cushion Hydra Radiance SPF 50\"]\n",
    "\n",
    "# Display each item's data and ingredients\n",
    "display(cosmetic_1)\n",
    "print(cosmetic_1.Ingredients.values)\n",
    "display(cosmetic_2)\n",
    "print(cosmetic_2.Ingredients.values)"
   ]
  }
 ],
 "metadata": {
  "kernelspec": {
   "display_name": "Python 3 (ipykernel)",
   "language": "python",
   "name": "python3"
  },
  "language_info": {
   "codemirror_mode": {
    "name": "ipython",
    "version": 3
   },
   "file_extension": ".py",
   "mimetype": "text/x-python",
   "name": "python",
   "nbconvert_exporter": "python",
   "pygments_lexer": "ipython3",
   "version": "3.9.13"
  }
 },
 "nbformat": 4,
 "nbformat_minor": 2
}
